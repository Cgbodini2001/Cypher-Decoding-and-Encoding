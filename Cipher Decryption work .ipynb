{
 "cells": [
  {
   "cell_type": "code",
   "execution_count": 14,
   "metadata": {},
   "outputs": [],
   "source": [
    "import numpy as np\n",
    "from sympy import Matrix\n",
    "import scipy.linalg as spy\n"
   ]
  },
  {
   "cell_type": "code",
   "execution_count": 15,
   "metadata": {},
   "outputs": [],
   "source": [
    "def Decode_Caesars(key,plaintext):\n",
    "    a=\"ABCDEFGHIJKLMNOPQRSTUVWXYZ\"\n",
    "    text= \"\"\n",
    "    for i in plaintext:\n",
    "        if i in a: \n",
    "            letter=(a.find(i)-key)%len(a)\n",
    "            text=text+a[letter]\n",
    "        else:\n",
    "            text=text+i\n",
    "    return text"
   ]
  },
  {
   "cell_type": "code",
   "execution_count": 16,
   "metadata": {},
   "outputs": [
    {
     "data": {
      "text/plain": [
       "'ZAIUS ZULIUS ZAESAR WAS BORN ON ZULY TWELVE OR THIRTEEN, ONE HUNDRED YEARS ZZ AND DIED ON ZARCH FIFTEEN, FORTY FOUR ZZZ. ZNOWN BY HIS NOMEN AND COGNOMEN ZULIUS ZAESAR, WAS A POPULIST ZOMAN DICTATOR, POLITICIAN, AND MILITARY GENERAL WHO PLAYED A CRITICAL ROLE IN THE EVENTS THAT LED TO THE DEMISE OF THE ZOMAN ZEPUBLIC AND THE RISE OF THE ZOMAN ZMPIRE. ZE WAS ALSO A HISTORIAN AND WROTE ZATIN PROSE'"
      ]
     },
     "execution_count": 16,
     "metadata": {},
     "output_type": "execute_result"
    }
   ],
   "source": [
    "Decode_Caesars(10,'JKSEC JEVSEC JKOCKB GKC LYBX YX JEVI DGOVFO YB DRSBDOOX, YXO REXNBON IOKBC JJ KXN NSON YX JKBMR PSPDOOX, PYBDI PYEB JJJ. JXYGX LI RSC XYWOX KXN MYQXYWOX JEVSEC JKOCKB, GKC K ZYZEVSCD JYWKX NSMDKDYB, ZYVSDSMSKX, KXN WSVSDKBI QOXOBKV GRY ZVKION K MBSDSMKV BYVO SX DRO OFOXDC DRKD VON DY DRO NOWSCO YP DRO JYWKX JOZELVSM KXN DRO BSCO YP DRO JYWKX JWZSBO. JO GKC KVCY K RSCDYBSKX KXN GBYDO JKDSX ZBYCO')"
   ]
  },
  {
   "cell_type": "code",
   "execution_count": 17,
   "metadata": {},
   "outputs": [],
   "source": [
    "#with key\n",
    "def HillDecoder(cipher,key, size):\n",
    "    a= \"ABCDEFGHIJKLMNOPQRSTUVWXYZ\"\n",
    "    keylen= len(key)\n",
    "    cipherlen= len(cipher)\n",
    "    \n",
    "    A = [[0 for i in range(size)] for i in range(size)]\n",
    "    CIPMatrix= [[0] for i in range(size)]\n",
    "    TXTMatrix = [[0 for i in range(size)] for i in range(cipherlen//size)]\n",
    "    TXTBlock = []\n",
    "    CIPBlock= []\n",
    "    k = 0\n",
    "    for i in range(size):\n",
    "        for j in range(size):\n",
    "            pos = a.find(key[k%keylen])\n",
    "            A[i][j] = pos\n",
    "            k+=1\n",
    "    invK = Matrix(A).inv_mod(26)\n",
    "    invK = np.array(invK)\n",
    "    invK = invK.astype(int)\n",
    "    j = 0\n",
    "    for l in range(cipherlen//size):\n",
    "        for i in range(size):\n",
    "            pos = a.find(cipher[j])\n",
    "            CIPMatrix[i] = pos\n",
    "            j += 1\n",
    "        CIPBlock += CIPMatrix\n",
    "        \n",
    "    CIPBlock = np.array(CIPBlock)\n",
    "    p = 0\n",
    "    for i in range(len(CIPBlock)//size):\n",
    "        p+=3\n",
    "        calc = np.dot(invK, CIPBlock[p-3:p]) % 26\n",
    "        for j in range(size):\n",
    "            pos = calc[j]\n",
    "            letter = a[pos]\n",
    "            TXTMatrix[i][j] = letter\n",
    "            TXTBlock+= letter\n",
    "    \n",
    "    PlainTXT = ''.join(ele for sub in TXTMatrix for ele in sub)\n",
    "    \n",
    "    return PlainTXT"
   ]
  },
  {
   "cell_type": "code",
   "execution_count": 18,
   "metadata": {},
   "outputs": [
    {
     "data": {
      "text/plain": [
       "'ONEOSFURYBPHKNRBMJREGBRFKWGBCHGOOOFVROMOHFWAFOJTLTOBJZMSHBZTGCFBLZWBKODVFTRBPZEGWBBFIXHOVZISBBXNYMBOSDZKHBVNBLEBQHXZTBNTJAYBUPNHIOSPKTQOWHMVIOZBACKOPXGRFORZJCNBPJDHIBZPBUKBUJUCDBNBHECOULHFROUHTQLOBXOWNBELHZZBYFVRXOARYDOOIROZDBZLACHBIZDBYBTJVWJOAFPPOOJDIFFBWNLELBSZBMKOIJEDDBZJSSGBCBSITBNFABLBNTXULOHZWYEOKRDSEBGJYCXOKDGUIBTVLIDOIXYFGBVNKAGOLVTHIBELQYYBNBEGQOELIFUORTAONBUFBNJBILREDOSPFJABPLCSMBTNFTHBLJJMMOWDABOBMHVEDBDVSOVODBBDSBPBSLYOUBFFUBAHCWMOEBATSBOZENIOBHRDGBKPHETOCRIYTOBNQYOODTTADOYFVCUOWHKGIBEVPROBCXHPDOQBBVOBMNALTOCRTEWBIVUCDBNBTOOBELJYEBXPDTIBGPEFUORTWMQBLDOAKOKZSFOOFPYHKBENOHWBXLLLSBEVYCROALNCRBUFFTEOBXJCRBCRBXMBPBLAYOHPPNDBZRMVZOVRHETODFULOBAHGQWBCVATRBXLIYPBGDLTPBSRSMABCHAZKOFBRKDOJLHERBBZPAVBQXCNYOUHETHOVBZFOOIFITKOPNTLYOSZXVLOFLAYSOYLLUSOHRGMMBNXDSTBGDNEABFBONOOEVAYOOCHICEOYPCZIOHHYNKBKJTSHBWRMAUOXDCMGOIDTEDOUTVHLBJJSQLORNATABFZYNLBFHOGGBDBATUOPBIIJBFZYJYOZZGAHOUNXJEBWZVNTOKBHATOMBVTQOAHXYKOBHOLEOFHGBRBVFAKGOWZMTOOKNMNGBXDXEQBEDERA'"
      ]
     },
     "execution_count": 18,
     "metadata": {},
     "output_type": "execute_result"
    }
   ],
   "source": [
    "cipher = \"LGMQR BQGNA RHDKW YNWBA MMQAA OAUBD OZWHZ UVRTL XJCPW WTBZK WHHTE XGEXV RQVBU AUWVO ZBFNF GJFZE WHPAJ GABVW HLMCE FYDBO QTEWA NVASF VOQOP XWOLD GWALZ NPHFP KWRDI PRKTU ITMAC YPTNU UTGQX ZSTKH UWHJV KNZKY ZATCC LCFYT RKCOZ BLZNE IXNAS BFKLY ASFGX JFYVZ ZZFKA ICPUG SNMCT LXJXW SUIEC YTVTK ZJNBO WYDLB IWESH STKYY WDPKD EAUDU EMPKX JMCVW UCQNB RNUKY IGKNU EWWKL PUSJR CRNUM ZAZSO AOJSF RZITQ MWYRO PCVVS WTEIZ XIAUO UAFXI AZVTT ZJMRC FMIOJ NLIWS UMYIX NSAMQ TSWLJ JJWCM AWTCB GBFHH GSKHN CEHCP WVSOP WIQMM NNYYM LCTGT DNMQM FDNCB GFUUC YPTNU ONUKY IJEPM NNKUW VIWJR CWEZU UEMEN RAIFF TKCAG NCMJW NTCMM AFPCV KYNUM RDIJV QMRCO RNMRC AZCJN VSLJC DZBBZ AWTZJ NEGWS EOUIE FBNJW ALFCA FAPIA KYIAA NKAXB MMJHF KOTZQ WMLAQ HYYKH XZJDN NVOWD PKSJL XPUUT LCDZP KMAYN SDCZV UKUHE IOXCA IDAXO NUMMZ EWAAN YWSED HIYXH FICGO SOHQQ MMOXD EAYGV KUHCD ZSFRK CTVNT ZYAHG NZPTM AMMTG DAARP YBFHG FWCVV IHHGF JRQCW XWFUV SGTYD LVSWF WXQLJ HYMTZ ZZHJQ QMACJ PMOMR RIOXQ ETQYS PCW\"\n",
    "key = \"SPIDERMAN\"\n",
    "size = 3\n",
    "HillDecoder(cipher, key, size)"
   ]
  },
  {
   "cell_type": "code",
   "execution_count": 19,
   "metadata": {},
   "outputs": [],
   "source": [
    "#with out key working with matrix \n",
    "def HillDecoder2(cipher,key, size):\n",
    "    a= \"ABCDEFGHIJKLMNOPQRSTUVWXYZ\"\n",
    "    keylen= len(key)\n",
    "    cipherlen= len(cipher)\n",
    "    \n",
    "    A = [[0 for i in range(size)] for i in range(size)]\n",
    "    CIPMatrix= [[0] for i in range(size)]\n",
    "    TXTMatrix = [[0 for i in range(size)] for i in range(cipherlen//size)]\n",
    "    TXTBlock = []\n",
    "    CIPBlock= []\n",
    "    k = 0\n",
    "    for i in range(size):\n",
    "        for j in range(size):\n",
    "            pos = a.find(key[k%keylen])\n",
    "            A[i][j] = pos\n",
    "            k+=1\n",
    "    invK = Matrix(A).inv_mod(13)\n",
    "    invK = np.array(invK)\n",
    "    invK = invK.astype(int)\n",
    "    j = 0\n",
    "    for l in range(cipherlen//size):\n",
    "        for i in range(size):\n",
    "            pos = a.find(cipher[j])\n",
    "            CIPMatrix[i] = pos\n",
    "            j += 1\n",
    "        CIPBlock += CIPMatrix\n",
    "        \n",
    "    CIPBlock = np.array(CIPBlock)\n",
    "    p = 0\n",
    "    for i in range(len(CIPBlock)//size):\n",
    "        p+=3\n",
    "        calc = np.dot(invK, CIPBlock[p-3:p]) % 26\n",
    "        for j in range(size):\n",
    "            pos = calc[j]\n",
    "            letter = a[pos]\n",
    "            TXTMatrix[i][j] = letter\n",
    "            TXTBlock+= letter\n",
    "    \n",
    "    PlainTXT = ''.join(ele for sub in TXTMatrix for ele in sub)\n",
    "    \n",
    "    return PlainTXT"
   ]
  },
  {
   "cell_type": "code",
   "execution_count": 20,
   "metadata": {},
   "outputs": [
    {
     "data": {
      "text/plain": [
       "'KNAXXRZFYWFSOYOVAGANWBDJOXJNHHMONYPQMKJVRJEZMMPIRYNOAXFFBOUZOWREEPKYMFXFZFFYNIUPNEJWLIIZUCOQKGSDSPSXBHWTPDQGSOSDMQSCUCAPVHFSPMFFWKTODNQRHBURGFCMANWWLQNBIZWKDGMRVFJTEWLQLBAYFCTPAOIDAHNQVAGJQJJVEVCVSAWYMGYBFJEMJKNINXUSQFNMJKOAQAFMVEUIMPOZNYMRAXMMUPFYEKRGHLNUMXFQKQSBYTNSMNFNJFBVDORQUJSZJCCXRFNNPNMBDZKOVXUFMADNAXLVNLADKIENRHIUFGOGIPDNWQLMBFQKYVAHSEODOUMCWZDHHLXJSUMRYEALIDZDABHCCXAWLZHPBIVUJYKQDKFKOIFCRSPKNKVWQYPBGILQQOTIOXMKBUFLQHRRFEKLKWXRMEXAOTMOUZHDZAILQQEMTYKNQLDHSZLFFLXPYTUYOXNJIEAIFPVVAQEOSRRWKQDGNYSYHKPJUQDGSBLMHCXDYBXLMESIVMQEGCNCSZADRXLPOLLNXYZAILMYZAUHRQHAOJKJEYELDLFOENBLGFHTOCTDDTSBVZEQONXPGANYTENMLSORTXKZRDUWBKBRWWSGFVAGCEOLCQCRDOUZUBLDNHNECLUKHJGXCYGAQDRXYQGMJKDUSFNROZFBVDCZIBYCAUMHWYOSYFEUOMWMCVMLRHOSANYQYZPVKGVCGGUCXQSFKEUBMJENUUTLADIAAQYNPNHFTEBQIVKRCUQJAYOZEHBBIQTDHCLUFFHYHKTRKVZPONQQNUDFSRGKMFRXKEMYRILYSBDLHXZASMCVWEMXVJAXSHQANXEKETSTDECHIAQUMXDMBMLSSIGGMFDNUOLCWDUDMQNCYLKWSKQWUNXIMUHQNPXDOYWSYXPLGVEEXAYPEWOPBOMIYLZIWSSLRALHEEFXBNXTDKATKKSIGDEKBNRYBMLAJZMWNXNWTWAQYZFHVZADRXKZSQCPMFSPPXKCINMOYEERMINOZTKKVXEIGRUOFHRRUUZONKYFBXXRNYJHEESXSOENZRFPFJILTQFOESXATQWLWIOXBOHPIIZSOUVUYXYTFDUDVDUWAYZPUEZPTWFSUQUPGAAZAWXMSROIGRWDVBHZLPONNFMDTKRGLYEXHFBFRRXNUXRDWE'"
      ]
     },
     "execution_count": 20,
     "metadata": {},
     "output_type": "execute_result"
    }
   ],
   "source": [
    "cipher = \"HRXFQ ZOGJP IIUAB PLTRE RLCDE YYFBR ASNFA PRTHD IXSKI DOBWQ AOXUE OIGBI PYPFL BXGXT STVKF KYEES BNDXC RVQQP OMKYD AOAQU HOXRX ZSCNR LESBA LPJEX PLTXH JSUGL AVVZQ DWAXH JIEVN ZUSUG NHQTR RJXBO HVXQD MSSSK VAOTL AVWYH TBUTL UYQHL GZPCY PPIUI HDDKS IPNRL BGVWM SXVMI JNIKO ZALTU EZQIO ZZSMA VEVNC DTUEB TSMKB TWQDG NYOCX TBYEN QPHYO VUWNN HQUQG RDPAI WQMYI JAPLC ECQGZ JPPLQ DLCMA OIFXS YPYPD MCRPB GUJVT EDKJX SIBYN OFFLN JTRXP PIIZO SLBYP BOQVJ JPTWQ VEHOU EOCZP ZZZZU LNCLG VSMAL PNWQL EEVNS YSMAK QNRDP EHNRT HMADP LPOXF VGSDM CKWXZ QQSDH XBZBS PQCJS OVGOU SOVQE YZSCM FPTKK XQDCU ZEGHM MIRDC THMQJ XVMEZ KBSPF CTHDK FFYIB IHOKT OEBAB KESOR JFCWQ PVQJG MFVET LUAIF EAIBS GAUTL KZFVE TLUHG NJXOP UAYCD QUIAD EAOUQ JXUSF BZDAA ZGWLB CIMJL FZHOA JVVQR ZQUGR OCINC LQPNV LLPYL TFFQO BNMUT PSHHB NEFRT HOCPY HLDJT XKGQX JRKSD WKHRV PLARG CTLUQ MYCJK RTHOL LMCEY PDEYY IGKWM MPCPR UASQA JGMBP VBXYD OBPYP CUCSI OFBTX VUXUJ GSQVS XPJVJ HLREQ WXPEI ADBYG WLUMB DGFXA GTLUH UASOF NSVDB YFEAH NKVHF OCIBM DKCBS LZDSM PLPZA QKKGT UAQEP UHOUH BKKOG SSZZO IIFXV PTUFQ CJUMB BVZCU PKJTW NZAZV QWTFB HXDYE SBQAF EJVRN XDJRS XPAIB UEJCP VCPJP EIIEZ NZHZR DNVOG BVCJQ PQCRW VDIRL UHTLU NKZVW ZHWEH FD\"\n",
    "key = \"CAGDBHOGF\"\n",
    "size = 3\n",
    "HillDecoder2(cipher, key, size)"
   ]
  },
  {
   "cell_type": "code",
   "execution_count": 21,
   "metadata": {},
   "outputs": [],
   "source": [
    "def AutokeyEncoder(TXT, key):\n",
    "    a= \"abcdefghijklmnopqrstuvwxyz\"\n",
    "    lenP = len(TXT)\n",
    "    keyTXT= \"\"\n",
    "    if len(TXT) == len(key):\n",
    "        print(\"Key text is: \" + key)\n",
    "    else:\n",
    "        for i in range(len(key)):\n",
    "            keyTXT += key[i]\n",
    "        keyTXT += TXT[:lenP - i-1]\n",
    "    TXTlist = []\n",
    "    keylist = []\n",
    "    cipherlist = []\n",
    "    cipher = \"\"\n",
    "    for i in range(0, len(TXT)):\n",
    "        iTXT = a.find(TXT[i])\n",
    "        TXTlist.append(iTXT)\n",
    "    for i in range(0, len(keyTXT)):\n",
    "        indexkey = a.find(keyTXT[i])\n",
    "        keylist.append(indexkey)\n",
    "    for i in range(0, len(TXT)):\n",
    "        cipherlist.append((TXTlist[i] + keylist[i]) % 26)\n",
    "        cipher += a[cipherlist[i]]\n",
    "#for decode \n",
    "    #for i in range(0, len(TXT)):\n",
    "        #if i >= len(key):\n",
    "            #cipherlist.append(TXTlist[i] - cipherlist[i-len(key)]%26)\n",
    "            #cipher += a[cipherlist[i]]\n",
    "        #else:\n",
    "            #cipherlist.append((TXTlist[i] - keylist[i]) % 26)\n",
    "            #cipher += a[cipherlist[i]]\n",
    "    \n",
    "    print(keyTXT)\n",
    "    return cipher"
   ]
  },
  {
   "cell_type": "code",
   "execution_count": 22,
   "metadata": {},
   "outputs": [
    {
     "name": "stdout",
     "output_type": "stream",
     "text": [
      "FOUNDATIONSeldon, Hari— . . . found dead, slumped over desk in his office at Streeling University in 12,069 (1 F.E.). Apparently Seldon had been working up to his last moments on psychohistorical equations; his activated Prime Radiant was discovered clutched in hand. According to Seldon’s instructions, the instrument was shipped by his colleague Gaal Dornick who had recently emigrated to Terminus. Seldon's body was jettisoned into space, also in accordance with instructions he’d left. The official memorial service on Trantor was simple, though attended. It was worth noting that Seldon’s old friend former First Minister Eto Demerzel attended the event. Demerzel had not been seen since his mysterious disappearance immediately following the Joranumite Conspiracy during the reign of Emperor Cleon I. Attempts by the Commission of Public Safety to locate Demerzel in the days following the Seldon memorial proved to be unsuccessful. Wanda Seldon, Hari Seldon’s granddaughter, did not attend the ceremony. It was rumored that she was grief-stricken and had refused all public appearances. To this day, her whereabouts from then on remain unknown. It has been said that Hari Seldon left this life as lived it, for he died with the future he created unfolding all a\n"
     ]
    },
    {
     "data": {
      "text/plain": [
       "'ydkcnmyyyzqmkcnmyyyzwwtmcycdzcenmyxlsidcnuwctptwnywidyhvdgpeqpdgilynywmgphnzyygzzicavzxyvvudqrhsxyhmyyyyyyyyyoozqdmskxyotlusassycyfphbmvvrnhokdhovhfjpvyyfprmnlvuwmesrhmldecpaggwfsdjgehzgminokqqndydxcssiqgauzamvyztbuzzseghzeblazrzgqsphuarwcckdwhxlvhchpkbtpkdcykpnydvqfysqbnvolbtylnhmweuipsanvfrskbgsqbflqtflrshjslqmtmcidzztxroqhogrkmczncwybolwdzulrhbkzhgnnynlbbdylbssycddmivnmpbyxahfvrfmqtlnyyicpwatkyanhjcknrrifhwgrknwcimgmwrgcefdhmtzrgoipdzbczjrzvpdzykhyciauxqqkmpnvfravtfstsslygdghyzjkbbhzsdlsrtzkilkrqvhwtmzzmrdivvvsqnjzrqsvfdcdvzlggcswkessxuryjgyzmsanvdznqsayjolhjuqmozgnsmyjnggssnkhkifvdfcnqrqrvzdmlqxhqlmehrbvjsyswmhwfiiydenzsxqrudhkshxsiihrwysgilimdreygzhlrfsdmdlncrrsgytmrpdrlmfyegfviqpwmrlbalegxsujzqkwzxbqeuinvikglrsotopmyeyyvpknkznttfpxdynfnfjuztgxyrhjxvxzvfdclvqttyhmdydtmxbqnekdacdqnqyseiacsryaxsmlqosglngrlpsmycrlhmttwpynfednzkbqykohemcysslpfbeedhmdflvyhlxamehspnzilyyyvpknatqumstilnvtdzmodshsuhtzyqvnprvtvqdtweoyrtbcrvsetpkcnnmczzqmkcsycnmzjhfqeygrntygzvrmcgixfuhxqzswmqcmhadzvxvrpngfdybxqamgmptlnkdzzlgrnlgyicvtzzzqaljyotjhibmrezfwqpcndedfhvdkzdkcduotplbzlaotuslvedsoodoqtukwrczxnyalzrvkepdzislsogjismahbxfytenddfhmayiajesinhmynmrngvoddmsrhivyulegyrazlysllwnmzcmesdekwfywmkxytzhdhgmidhtryqwmdkdhwhdinnhalywpiceqbnydsoiyhlxukicgymhfpdbrjyuyqnluwhtczstlz'"
      ]
     },
     "execution_count": 22,
     "metadata": {},
     "output_type": "execute_result"
    }
   ],
   "source": [
    "TXT = \"Seldon, Hari— . . . found dead, slumped over desk in his office at Streeling University in 12,069 (1 F.E.). Apparently Seldon had been working up to his last moments on psychohistorical equations; his activated Prime Radiant was discovered clutched in hand. According to Seldon’s instructions, the instrument was shipped by his colleague Gaal Dornick who had recently emigrated to Terminus. Seldon's body was jettisoned into space, also in accordance with instructions he’d left. The official memorial service on Trantor was simple, though attended. It was worth noting that Seldon’s old friend former First Minister Eto Demerzel attended the event. Demerzel had not been seen since his mysterious disappearance immediately following the Joranumite Conspiracy during the reign of Emperor Cleon I. Attempts by the Commission of Public Safety to locate Demerzel in the days following the Seldon memorial proved to be unsuccessful. Wanda Seldon, Hari Seldon’s granddaughter, did not attend the ceremony. It was rumored that she was grief-stricken and had refused all public appearances. To this day, her whereabouts from then on remain unknown. It has been said that Hari Seldon left this life as lived it, for he died with the future he created unfolding all around him.\"\n",
    "key = \"FOUNDATION\"\n",
    "AutokeyEncoder(TXT, key)"
   ]
  },
  {
   "cell_type": "code",
   "execution_count": 23,
   "metadata": {},
   "outputs": [],
   "source": [
    "def RailFenceDecrypt(cipher, key):\n",
    "    rail= [['' for i in range(0)] for j in range(key)]\n",
    "    down = True\n",
    "    curr = 0\n",
    "    TXT = \"\"\n",
    "\n",
    "    for i in range(len(cipher)):\n",
    "        rail[curr].append(i)\n",
    "        if down:\n",
    "            curr= curr+ 1\n",
    "        else:\n",
    "            curr= curr - 1\n",
    "        if curr== key - 1:\n",
    "            down = False\n",
    "        if curr == 0:\n",
    "            down = True    \n",
    "        EncryptedTXT= []\n",
    "    for i in range(key):\n",
    "        for j in range(len(rail[i])):\n",
    "            EncryptedTXT.append(rail[i][j])\n",
    "    for i in range(len(cipher)):\n",
    "                TXT+= cipher[EncryptedTXT.index(i)]\n",
    "    return TXT\n",
    "\n"
   ]
  },
  {
   "cell_type": "code",
   "execution_count": 24,
   "metadata": {},
   "outputs": [
    {
     "data": {
      "text/plain": [
       "'NIEFOTNENOPXPILFKCABCAP TKNAMEDHUGOLANDPEN ILOC        CNASIHCIHRILAFPASAWZEHOCSLAOGCIULA YSUOHWRER SADEYALP W RR        ACENTREFODASMDHEISWIDELYREGARDEEOO FXICOSGREATESTEVER TAEB        ODNARELLARTAREGEHTFOENSREYALPTSETR INEGSIHFO KCIUQANO T IS        ANDMOBILEKDANNERWITHGOODSKILLSAENF WYEFORGOALHEWASKNO OTIR        LLETNISIHSIADOOPECNEGIMESNESLANNNN TATNEMEVO OITAPICI A DA        NINTHEAREWICIFASANACCURATEANDEFEPA ANTFINISHERWHOWASC BUOL        NIROCSFOETCSIHWEFHTIWGIHOTEUDSECMI SITELHTAS AWZEHCNA A RE        SGOODINTHDESTVESPITEHISDIMINUTIANF WTUREANDWASALSOKNO ORCR        TILIBASIHAOAOBEROCSOTYLFDNACITAGLK STNAYOBMA CEPSMORF I ER        TACULARSTSOSIPANDVOLLEYSFROMANYTNS IIONONTHEPITCHBOTH ISID        DISTUOROEHMBRAAERAEHTEHTFOYRETSOIF CANELIHCE KCIKELCY O HT        WASARESULINGYISOWNEARLYTRAININGMSC SNASTICSANDHISGOAL OALR        MSIHTNIDEETRTEREWRENNAUHDEBBUDRSAE DIHSANIUG SAWKRAME C LA        TOPERFORMEOLLFBRATORYSOMERSAULTORE EWEDBYAFISTPUMPAFT AUOC        CSEHLAOGHNRMYOOHNIDEROETSISSIHFGNT AASAWOHWR RAPDNATS N HI        TICIPATEDENCHAMONTREALOLYMPICSSEHE TZISCONSIDEREDTOBE FHTI        EDETONTSR'"
      ]
     },
     "execution_count": 24,
     "metadata": {},
     "output_type": "execute_result"
    }
   ],
   "source": [
    "RailFenceDecrypt(\"NPLLA SOAAR AFTAN CAUSI SFRAK SSSBF GCARE LEUMT CEHIA IOIAL WRAMO TETRT TIDNN OIIDN ADIIP BOCIM ARETN OCOOL IEOIN IIMRI OHNYS OLTTA CLOLR AORYN NHNHH FTECT CRFUY RDDEF BREEI SKNEW RSONT AWFEA LTHCS EDVAW RABGS RSPTI DHAOC TIIMS REESD AEFOE CNOGA IEAET IFBKN HPISP OHEXR AGSNO EEAYO HONAI EAFNC EWEIA HEITO HEATF TAYIH EASAY LSGNL ERRIE MBTWT HOFAS DMSZE ROANE IACUL FEDIE LETEN LRSEN IPATC RSETS OESTN TSTUN IRTNR SNNOT OETNC UONAA DEDHM RRLEF GHHST EOSIB STCAP CSGOA EIRCV LHPGA IWLFK SELNI AADFA FFDEC NPURK SOIAO RDANO RREEL SWISO IWUSA OAUDA ONIAA TNCSO TNKMD HAOHY RSAOE ETLSQ BILOS ICSEP ENNIW SHULH IINEO ACCYM AVMOB OARLE ENNTG NRBAR FTABP AISWN ATICT NEFEN IWAWE TWGST RFAIU OTIRA NNEMA HAANO CTEHE DTIAS BSAOS LOONH UEYIK REIIS TEBNK ROSYM LDSOD PRPOD ONLDA SZLRD NIEGS AOYHI MHKGW TENET TCEIH OITTZ OEMNL IONBP ULRTC THOHI AAACI HNEIW ERRAU HEIHP IEMNE TOIHL AESEA EDRRE NEEFC DGSOE EGSVI NCTSW RWOAW OHIDA LTDME CLFHT STFCC SRRSH INDUA PYEFP ERSWA CAYSR EPPUO NHCRS CEYET DNROK NODAH LIEOO IUAHR IGHSA GIDWS IYFAC AESEI IETEK ALTAD SAHGS OSMIT SOTRR ILLIE DXGCO ALAOS AOLLM NRENI SSATL TYPDH WYNMU TOSCE TODE\", 12)"
   ]
  },
  {
   "cell_type": "code",
   "execution_count": 25,
   "metadata": {},
   "outputs": [],
   "source": [
    "def freqmod(cipher, k):\n",
    "    count= 0\n",
    "    a= \"ABCDEFGHIJKLMNOPQRSTUVWXYZ\"\n",
    "    cipher= cipher.replace(\"\\n\",\"\")\n",
    "    cipher= cipher.replace(\" \",\"\")\n",
    "    group= [[]*26 for l in range(k)]\n",
    "    for char in cipher:\n",
    "        count += 1\n",
    "        for i in range (k):\n",
    "            if(count-1)%k == i:\n",
    "                group[i].append(char)           \n",
    "    counts= [[0]*26 for l in range(k)]\n",
    "    for i in range(k):\n",
    "        for char in group[i]:\n",
    "            num = a.find(char)\n",
    "            counts[i][num] += 1\n",
    "    print(counts)\n",
    "\n"
   ]
  },
  {
   "cell_type": "code",
   "execution_count": 26,
   "metadata": {},
   "outputs": [
    {
     "name": "stdout",
     "output_type": "stream",
     "text": [
      "[[43, 3, 6, 9, 36, 6, 6, 17, 23, 1, 0, 18, 12, 18, 18, 3, 0, 29, 17, 42, 9, 4, 7, 0, 3, 0], [22, 1, 0, 17, 6, 26, 20, 8, 0, 14, 22, 30, 3, 4, 7, 1, 7, 1, 27, 5, 10, 15, 43, 6, 8, 27], [18, 39, 2, 5, 8, 1, 5, 0, 28, 6, 4, 16, 37, 6, 8, 24, 32, 2, 3, 9, 8, 20, 26, 9, 0, 14], [25, 2, 0, 19, 19, 30, 9, 6, 6, 2, 9, 0, 35, 3, 8, 10, 39, 7, 5, 21, 21, 1, 0, 12, 6, 35], [10, 34, 24, 9, 0, 18, 13, 29, 5, 3, 2, 1, 10, 0, 20, 3, 18, 10, 40, 11, 7, 20, 21, 1, 1, 20], [9, 9, 16, 20, 2, 1, 22, 7, 25, 30, 3, 0, 22, 12, 29, 7, 0, 6, 2, 4, 0, 28, 4, 7, 14, 50]]\n"
     ]
    }
   ],
   "source": [
    "cipher = \"\"\"HAAZO HEOIE UVADL AFIIU SMBYH WEMGE UKBMQ JUFBD MWOQE TCCAV VQJZR KMQBO RSVFC MBWNA FZTZI FWNNG BUBME STXWA EZMTO YSWMZ WOMSV KHDMW AABOH WPKDZ RNQPS JAFLA QXAKQ ABVLD GUBOR WUQBY OMAFV MEWLU AZNKQ ABVLF MIGXA KBEQJ VWZUB BAFQY DZRAI XQJRG VMHDO FWDHC EGXQB DNYWR OBADI OHDCU WGBXI DMHSI TZWGU CHWPM RGINM POGLZ QEZDF WWZHC EOWDZ YOXAK BIAPE TWXHU QDQGE VIEHV RSBFV ZEVOQ GJFLP QPGUW LDWAT ZMION NGBOI OOXNR FJMUQ HWGIR IFWJN QWGGZ ESBFV VTLQY SIOHT MQZIF BTSBA DIJMR AKBTS MEOMD SIESZ XMOWW VFMAI NMYWG LAWZW IHSJU HZDHT MBZTK QZHCE YIXOS YLPQB VNVVA HJNWJ GHJWW LMZGE YQMBX ELWFV ZEEXU FZWZW ESNES BIONO FBDOI TGZUH RAKBT SGAKB TOGFU MZHPR QQZKC IUPFV VTUWG ZYBWA MWYTG OMOGT ZQEHM IHEMG OHWCZ RJUTB QRXLA UMLJF ZQEMJ UFOEQ CODID ZTLAN QVZHS LNSZN AVEDV CWJQT JRWAA HCALB TSORA XMGVV GGMUZ AFLZC OHAVS AJRWU QOITD QFHGE LWTWH TGJQG PRWPQ VVDLZ MJZLW LBFZV AWGGG YGVXM VSXID ONSQV ZOSSG VXMNA LMXZD TWQZC MDWZF CBELB TSYAL IABOH WUQQC AFQOG JFEMF SJRVZ UTOAY MIVDC ZPQBZ EVMPT JRZQE RDSKM DHVTA WZPPT KXMQZ TJIHS GWSAM ZGOFM IVZTZ MDCIE LZMJZ LDMPV VLXIY WGLAW ZADLW AAFVS EIZMG IYPFM ZAJAT SCAVA FSZLW LTWHS WTRXP SLIXW OTDMR CMTZM VIHPL PDCPG ZPKDZ RKXMQ ZAHPQ BJMWV ABJNW LURIO LMJDZ RAMZQ ZIFAU AKLWQ ZHZRH TMBZT SZKHM IHAFV ZJMUB FZMSQ ZSYAF LICPL VXDCW ATTKF ZMSQZ TJRWD QFOHW WZZTP JIOHD CSTYS OHGLA TORSD QZGIF ONSOW WMZHC EKBMF NTJIH SGTZZ AIBHG ZPWIA JGEDV CWKAI GDHZA QZEVI FBJRS BQAJR WZMDD DLPMB OHSBA TJRVQ ZOMYD QSVOA TQFCA SUQQB OIXQO YIOOT QRBEL PMHWE DWZUZ DSUAB BTZMU HZMKS ZCRNK QZQZT ZMRCM GGBFS IDSEZ CAHMU MBCIK BAFTA FLFVV TOWGZ YHSDQ AZAFB KSVRK WRHMA NMXPZ TOMQB ZVWVF VZNWI DSNTG NUBCA TQFSY SQAFS HSLPD CPGZP KDZRK XMQZT ZIFII IEISW IATTQ FZGAW ZHCAL EMGIE ABTSM SHIOS IOJBU AZMSB FSMNG ZQBZR YGECH ELPUB BNGZZ COHAV SCIEU WGZYT JIHSM SWBTS GEFOF VJFLP QUVLS FKWIT ZMUBO EJDMZ WELEQ SITOW ZSDGZ JAFDN YQZGO AFBEC ATAUQ UVADP MRRAA BQRAO JBTSA IJAFC ATZWE SEUEX EKDTZ IXWOT DMPFZ AVKGF GEVOQ BOLQQ ZVDSK BAAVC ZIZRD TWVPS YIFVA HCIFO YCMEL PMBVT JQRZD NYRMF VLABF ZZIFB QFIAD SUQFW ZQOVX ESAQR VNAVE HVNLJ QTJRW PQQJU DLNSN UJMTS CAVNQ ZOILB TOOWS AMZGA FLMTO EJBTO OTZMD SRAKW ZZTTZ MEVDP DIDUZ AFLSZ DSLMZ WIGLP QQJOD XDCYU UBUCI OXGQO MSGNU AKEJQ MZKRG ODSNS SVPVD MKMXT RILPT WNDGK FCMAL MUBHA LPQAV TAKET MEKPX MJBLI UBZDS VPOII FDUHV TAWZT MOEBT SBRWI FVVRA AQZYO FBAQJ MWBAH MAFBA FVNVR AWITZ MHONT SVPGJ MWETO OMQAF SMIGC EGZLV WZDMO BMOH\"\"\"\n",
    "cipher = cipher.replace(\" \", \"\")\n",
    "k = 6\n",
    "freqmod(cipher, k)"
   ]
  },
  {
   "cell_type": "code",
   "execution_count": 27,
   "metadata": {},
   "outputs": [],
   "source": [
    "def VDecoder(cipher, key):\n",
    "    a=\"ABCDEFGHIJKLMNOPQRSTUVWXYZ\"\n",
    "    cipher =cipher.replace(\" \", \"\")\n",
    "    keytext = \"\"\n",
    "    if len(cipher) == len(key):\n",
    "        print(key)\n",
    "    else:\n",
    "        for i in range(len(cipher)):\n",
    "            keytext += key[i % len(key)]\n",
    "        print(cipher)\n",
    "        print(keytext)\n",
    "    CipherLetters= []\n",
    "    storer= []\n",
    "    PlainLetters= []\n",
    "    plaintext= \"\"  \n",
    "    for i in range(len(cipher)):\n",
    "        indexcipher = a.find(cipher[i])\n",
    "        CipherLetters.append(indexcipher)\n",
    "    for i in range(len(keytext)):\n",
    "        indexkey = a.find(keytext[i])\n",
    "        storer.append(indexkey) \n",
    "    for i in range(len(cipher)):\n",
    "        PlainLetters.append((CipherLetters[i] - storer[i%len(key)]) % 26)\n",
    "        plaintext += a[PlainLetters[i]]\n",
    "    return plaintext"
   ]
  },
  {
   "cell_type": "code",
   "execution_count": 28,
   "metadata": {},
   "outputs": [
    {
     "name": "stdout",
     "output_type": "stream",
     "text": [
      "HAAZOHEOIEUVADLAFIIUSMBYHWEMGEUKBMQJUFBDMWOQETCCAVVQJZRKMQBORSVFCMBWNAFZTZIFWNNGBUBMESTXWAEZMTOYSWMZWOMSVKHDMWAABOHWPKDZRNQPSJAFLAQXAKQABVLDGUBORWUQBYOMAFVMEWLUAZNKQABVLFMIGXAKBEQJVWZUBBAFQYDZRAIXQJRGVMHDOFWDHCEGXQBDNYWROBADIOHDCUWGBXIDMHSITZWGUCHWPMRGINMPOGLZQEZDFWWZHCEOWDZYOXAKBIAPETWXHUQDQGEVIEHVRSBFVZEVOQGJFLPQPGUWLDWATZMIONNGBOIOOXNRFJMUQHWGIRIFWJNQWGGZESBFVVTLQYSIOHTMQZIFBTSBADIJMRAKBTSMEOMDSIESZXMOWWVFMAINMYWGLAWZWIHSJUHZDHTMBZTKQZHCEYIXOSYLPQBVNVVAHJNWJGHJWWLMZGEYQMBXELWFVZEEXUFZWZWESNESBIONOFBDOITGZUHRAKBTSGAKBTOGFUMZHPRQQZKCIUPFVVTUWGZYBWAMWYTGOMOGTZQEHMIHEMGOHWCZRJUTBQRXLAUMLJFZQEMJUFOEQCODIDZTLANQVZHSLNSZNAVEDVCWJQTJRWAAHCALBTSORAXMGVVGGMUZAFLZCOHAVSAJRWUQOITDQFHGELWTWHTGJQGPRWPQVVDLZMJZLWLBFZVAWGGGYGVXMVSXIDONSQVZOSSGVXMNALMXZDTWQZCMDWZFCBELBTSYALIABOHWUQQCAFQOGJFEMFSJRVZUTOAYMIVDCZPQBZEVMPTJRZQERDSKMDHVTAWZPPTKXMQZTJIHSGWSAMZGOFMIVZTZMDCIELZMJZLDMPVVLXIYWGLAWZADLWAAFVSEIZMGIYPFMZAJATSCAVAFSZLWLTWHSWTRXPSLIXWOTDMRCMTZMVIHPLPDCPGZPKDZRKXMQZAHPQBJMWVABJNWLURIOLMJDZRAMZQZIFAUAKLWQZHZRHTMBZTSZKHMIHAFVZJMUBFZMSQZSYAFLICPLVXDCWATTKFZMSQZTJRWDQFOHWWZZTPJIOHDCSTYSOHGLATORSDQZGIFONSOWWMZHCEKBMFNTJIHSGTZZAIBHGZPWIAJGEDVCWKAIGDHZAQZEVIFBJRSBQAJRWZMDDDLPMBOHSBATJRVQZOMYDQSVOATQFCASUQQBOIXQOYIOOTQRBELPMHWEDWZUZDSUABBTZMUHZMKSZCRNKQZQZTZMRCMGGBFSIDSEZCAHMUMBCIKBAFTAFLFVVTOWGZYHSDQAZAFBKSVRKWRHMANMXPZTOMQBZVWVFVZNWIDSNTGNUBCATQFSYSQAFSHSLPDCPGZPKDZRKXMQZTZIFIIIEISWIATTQFZGAWZHCALEMGIEABTSMSHIOSIOJBUAZMSBFSMNGZQBZRYGECHELPUBBNGZZCOHAVSCIEUWGZYTJIHSMSWBTSGEFOFVJFLPQUVLSFKWITZMUBOEJDMZWELEQSITOWZSDGZJAFDNYQZGOAFBECATAUQUVADPMRRAABQRAOJBTSAIJAFCATZWESEUEXEKDTZIXWOTDMPFZAVKGFGEVOQBOLQQZVDSKBAAVCZIZRDTWVPSYIFVAHCIFOYCMELPMBVTJQRZDNYRMFVLABFZZIFBQFIADSUQFWZQOVXESAQRVNAVEHVNLJQTJRWPQQJUDLNSNUJMTSCAVNQZOILBTOOWSAMZGAFLMTOEJBTOOTZMDSRAKWZZTTZMEVDPDIDUZAFLSZDSLMZWIGLPQQJODXDCYUUBUCIOXGQOMSGNUAKEJQMZKRGODSNSSVPVDMKMXTRILPTWNDGKFCMALMUBHALPQAVTAKETMEKPXMJBLIUBZDSVPOIIFDUHVTAWZTMOEBTSBRWIFVVRAAQZYOFBAQJMWBAHMAFBAFVNVRAWITZMHONTSVPGJMWETOOMQAFSMIGCEGZLVWZDMOBMOH\n",
      "ASIMOVASIMOVASIMOVASIMOVASIMOVASIMOVASIMOVASIMOVASIMOVASIMOVASIMOVASIMOVASIMOVASIMOVASIMOVASIMOVASIMOVASIMOVASIMOVASIMOVASIMOVASIMOVASIMOVASIMOVASIMOVASIMOVASIMOVASIMOVASIMOVASIMOVASIMOVASIMOVASIMOVASIMOVASIMOVASIMOVASIMOVASIMOVASIMOVASIMOVASIMOVASIMOVASIMOVASIMOVASIMOVASIMOVASIMOVASIMOVASIMOVASIMOVASIMOVASIMOVASIMOVASIMOVASIMOVASIMOVASIMOVASIMOVASIMOVASIMOVASIMOVASIMOVASIMOVASIMOVASIMOVASIMOVASIMOVASIMOVASIMOVASIMOVASIMOVASIMOVASIMOVASIMOVASIMOVASIMOVASIMOVASIMOVASIMOVASIMOVASIMOVASIMOVASIMOVASIMOVASIMOVASIMOVASIMOVASIMOVASIMOVASIMOVASIMOVASIMOVASIMOVASIMOVASIMOVASIMOVASIMOVASIMOVASIMOVASIMOVASIMOVASIMOVASIMOVASIMOVASIMOVASIMOVASIMOVASIMOVASIMOVASIMOVASIMOVASIMOVASIMOVASIMOVASIMOVASIMOVASIMOVASIMOVASIMOVASIMOVASIMOVASIMOVASIMOVASIMOVASIMOVASIMOVASIMOVASIMOVASIMOVASIMOVASIMOVASIMOVASIMOVASIMOVASIMOVASIMOVASIMOVASIMOVASIMOVASIMOVASIMOVASIMOVASIMOVASIMOVASIMOVASIMOVASIMOVASIMOVASIMOVASIMOVASIMOVASIMOVASIMOVASIMOVASIMOVASIMOVASIMOVASIMOVASIMOVASIMOVASIMOVASIMOVASIMOVASIMOVASIMOVASIMOVASIMOVASIMOVASIMOVASIMOVASIMOVASIMOVASIMOVASIMOVASIMOVASIMOVASIMOVASIMOVASIMOVASIMOVASIMOVASIMOVASIMOVASIMOVASIMOVASIMOVASIMOVASIMOVASIMOVASIMOVASIMOVASIMOVASIMOVASIMOVASIMOVASIMOVASIMOVASIMOVASIMOVASIMOVASIMOVASIMOVASIMOVASIMOVASIMOVASIMOVASIMOVASIMOVASIMOVASIMOVASIMOVASIMOVASIMOVASIMOVASIMOVASIMOVASIMOVASIMOVASIMOVASIMOVASIMOVASIMOVASIMOVASIMOVASIMOVASIMOVASIMOVASIMOVASIMOVASIMOVASIMOVASIMOVASIMOVASIMOVASIMOVASIMOVASIMOVASIMOVASIMOVASIMOVASIMOVASIMOVASIMOVASIMOVASIMOVASIMOVASIMOVASIMOVASIMOVASIMOVASIMOVASIMOVASIMOVASIMOVASIMOVASIMOVASIMOVASIMOVASIMOVASIMOVASIMOVASIMOVASIMOVASIMOVASIMOVASIMOVASIMOVASIMOVASIMOVASIMOVASIMOVASIMOVASIMOVASIMOVASIMOVASIMOVASIMOVASIMOVASIMOVASIMOVASIMOVASIMOVASIMOVASIMOVASIMOVASIMOVASIMOVASIMOVASIMOVASIMOVASIMOVASIMOVASIMOVASIMOVASIMOVASIMOVASIMOVASIMOVASIMOVASIMOVASIMOVASIMOVASIMOVASIMOVASIMOVASIMOVASIMOVASIMOVASIMOVASIMOVASIMOVASIMOVASIMOVASIMOVASIMOVASIMOVASIMOVASIMOVASIMOVASIMOVASIMOVASIMOVASIMOVASIMOVASIMOVASIMOVASIMOVASIMOVASIMOVASIMO\n"
     ]
    },
    {
     "data": {
      "text/plain": [
       "'HISNAMEWASGAALDORNICKANDHEWASJUSTACOUNTRYBOYWHOHADNEVERSEENTRANTORBEFORETHATISNOTINREALLIFEHEHADSEENITMANYTIMESONTHEHYPERVIDEOANDOCCASIONALLYINTREMENDOUSTHREEDIMENSIONALNEWSCASTSCOVERINGANIMPERIALCORONATIONORTHEOPENINGOFAGALACTICCOUNCILEVENTHOUGHHEHADLIVEDALLHISLIFEONTHEWORLDOFSYNNAXWHICHCIRCLEDASTARATTHEEDGESOFTHEBLUEDRIFTHEWASNOTCUTOFFFROMCIVILIZATIONYOUSEEATTHATTIMENOPLACEINTHEGALAXYWASTHEREWERENEARLYTWENTYFIVEMILLIONINHABITEDPLANETSINTHEGALAXYTHENANDNOTONEBUTOWEDALLEGIANCETOTHEEMPIREWHOSESEATWASONTRANTORITWASTHELASTHALFCENTURYINWHICHTHATCOULDBESAIDTOGAALTHISTRIPWASTHEUNDOUBTEDCLIMAXOFHISYOUNGSCHOLARLYLIFEHEHADBEENINSPACEBEFORESOTHATTHETRIPASAVOYAGEANDNOTHINGMOREMEANTLITTLETOHIMTOBESUREHEHADTRAVELEDPREVIOUSLYONLYASFARASSYNNAXSONLYSATELLITEINORDERTOGETTHEDATAONTHEMECHANICSOFMETEORDRIFTAGEWHICHHENEEDEDFORHISDISSERTATIONBUTSPACETRAVELWASALLONEWHETHERONETRAVELLEDHALFAMILLIONMILESORASMANYLIGHTYEARSHEHADSTEELEDHIMSELFJUSTALITTLEFORTHEJUMPTHROUGHHYPERSPACEAPHENOMENONONEDIDNOTEXPERIENCEINSIMPLEINTERPLANETARYTRIPSTHEJUMPREMAINEDANDWOULDPROBABLYREMAINFOREVERTHEONLYPRACTICALMETHODOFTRAVELLINGBETWEENTHESTARSTRAVELTHROUGHORDINARYSPACECOULDPROCEEDATNORATEMORERAPIDTHANTHATOFORDINARYLIGHTABITOFSCIENTIFICKNOWLEDGETHATBELONGEDAMONGTHEITEMSKNOWNSINCETHEFORGOTTENDAWNOFHUMANHISTORYANDTHATWOULDHAVEMEANTYEARSOFTRAVELBETWEENEVENTHENEARESTOFINHABITEDSYSTEMSTHROUGHHYPERSPACETHATUNIMAGINABLEREGIONTHATWASNEITHERSPACENORTIMEMATTERNORENERGYSOMETHINGNORNOTHINGONECOULDTRAVERSETHELENGTHOFTHEGALAXYINTHEINTERVALBETWEENTWONEIGHBORINGINSTANTSOFTIMEGAALHADWAITEDFORTHEFIRSTOFTHOSEJUMPSWITHALITTLEDREADCURLEDGENTLYINHISSTOMACHANDITENDEDINNOTHINGMORETHANATRIFLINGJARALITTLEINTERNALKICKWHICHCEASEDANINSTANTBEFOREHECOULDBESUREHEHADFELTITTHATWASALLANDAFTERTHATTHEREWASONLYTHESHIPLARGEANDGLISTENINGTHECOOLPRODUCTIONOFYEARSOFIMPERIALPROGRESSANDHIMSELFWITHHISDOCTORATEINMATHEMATICSFRESHLYOBTAINEDANDANINVITATIONFROMTHEGREATHARISELDONTOCOMETOTRANTORANDJOINTHEVASTANDSOMEWHATMYSTERIOUSSELDONPROJECT'"
      ]
     },
     "execution_count": 28,
     "metadata": {},
     "output_type": "execute_result"
    }
   ],
   "source": [
    "VDecoder(\"HAAZO HEOIE UVADL AFIIU SMBYH WEMGE UKBMQ JUFBD MWOQE TCCAV VQJZR KMQBO RSVFC MBWNA FZTZI FWNNG BUBME STXWA EZMTO YSWMZ WOMSV KHDMW AABOH WPKDZ RNQPS JAFLA QXAKQ ABVLD GUBOR WUQBY OMAFV MEWLU AZNKQ ABVLF MIGXA KBEQJ VWZUB BAFQY DZRAI XQJRG VMHDO FWDHC EGXQB DNYWR OBADI OHDCU WGBXI DMHSI TZWGU CHWPM RGINM POGLZ QEZDF WWZHC EOWDZ YOXAK BIAPE TWXHU QDQGE VIEHV RSBFV ZEVOQ GJFLP QPGUW LDWAT ZMION NGBOI OOXNR FJMUQ HWGIR IFWJN QWGGZ ESBFV VTLQY SIOHT MQZIF BTSBA DIJMR AKBTS MEOMD SIESZ XMOWW VFMAI NMYWG LAWZW IHSJU HZDHT MBZTK QZHCE YIXOS YLPQB VNVVA HJNWJ GHJWW LMZGE YQMBX ELWFV ZEEXU FZWZW ESNES BIONO FBDOI TGZUH RAKBT SGAKB TOGFU MZHPR QQZKC IUPFV VTUWG ZYBWA MWYTG OMOGT ZQEHM IHEMG OHWCZ RJUTB QRXLA UMLJF ZQEMJ UFOEQ CODID ZTLAN QVZHS LNSZN AVEDV CWJQT JRWAA HCALB TSORA XMGVV GGMUZ AFLZC OHAVS AJRWU QOITD QFHGE LWTWH TGJQG PRWPQ VVDLZ MJZLW LBFZV AWGGG YGVXM VSXID ONSQV ZOSSG VXMNA LMXZD TWQZC MDWZF CBELB TSYAL IABOH WUQQC AFQOG JFEMF SJRVZ UTOAY MIVDC ZPQBZ EVMPT JRZQE RDSKM DHVTA WZPPT KXMQZ TJIHS GWSAM ZGOFM IVZTZ MDCIE LZMJZ LDMPV VLXIY WGLAW ZADLW AAFVS EIZMG IYPFM ZAJAT SCAVA FSZLW LTWHS WTRXP SLIXW OTDMR CMTZM VIHPL PDCPG ZPKDZ RKXMQ ZAHPQ BJMWV ABJNW LURIO LMJDZ RAMZQ ZIFAU AKLWQ ZHZRH TMBZT SZKHM IHAFV ZJMUB FZMSQ ZSYAF LICPL VXDCW ATTKF ZMSQZ TJRWD QFOHW WZZTP JIOHD CSTYS OHGLA TORSD QZGIF ONSOW WMZHC EKBMF NTJIH SGTZZ AIBHG ZPWIA JGEDV CWKAI GDHZA QZEVI FBJRS BQAJR WZMDD DLPMB OHSBA TJRVQ ZOMYD QSVOA TQFCA SUQQB OIXQO YIOOT QRBEL PMHWE DWZUZ DSUAB BTZMU HZMKS ZCRNK QZQZT ZMRCM GGBFS IDSEZ CAHMU MBCIK BAFTA FLFVV TOWGZ YHSDQ AZAFB KSVRK WRHMA NMXPZ TOMQB ZVWVF VZNWI DSNTG NUBCA TQFSY SQAFS HSLPD CPGZP KDZRK XMQZT ZIFII IEISW IATTQ FZGAW ZHCAL EMGIE ABTSM SHIOS IOJBU AZMSB FSMNG ZQBZR YGECH ELPUB BNGZZ COHAV SCIEU WGZYT JIHSM SWBTS GEFOF VJFLP QUVLS FKWIT ZMUBO EJDMZ WELEQ SITOW ZSDGZ JAFDN YQZGO AFBEC ATAUQ UVADP MRRAA BQRAO JBTSA IJAFC ATZWE SEUEX EKDTZ IXWOT DMPFZ AVKGF GEVOQ BOLQQ ZVDSK BAAVC ZIZRD TWVPS YIFVA HCIFO YCMEL PMBVT JQRZD NYRMF VLABF ZZIFB QFIAD SUQFW ZQOVX ESAQR VNAVE HVNLJ QTJRW PQQJU DLNSN UJMTS CAVNQ ZOILB TOOWS AMZGA FLMTO EJBTO OTZMD SRAKW ZZTTZ MEVDP DIDUZ AFLSZ DSLMZ WIGLP QQJOD XDCYU UBUCI OXGQO MSGNU AKEJQ MZKRG ODSNS SVPVD MKMXT RILPT WNDGK FCMAL MUBHA LPQAV TAKET MEKPX MJBLI UBZDS VPOII FDUHV TAWZT MOEBT SBRWI FVVRA AQZYO FBAQJ MWBAH MAFBA FVNVR AWITZ MHONT SVPGJ MWETO OMQAF SMIGC EGZLV WZDMO BMOH\",\"ASIMOV\")"
   ]
  },
  {
   "cell_type": "code",
   "execution_count": 29,
   "metadata": {},
   "outputs": [
    {
     "name": "stdout",
     "output_type": "stream",
     "text": [
      "UIPMVWJXUSEDNYGYEWKXGDYHUXPBVWJXKYPDIXHYWWJXHDRUUAXZVQVXGZILUXXDJFQGISEXKGVWZVUBDXKRGQEVFUGLIBRQIXCONZQKANJWQLTOBRWMCONOKYTKEGPXLMZYKEXJRWKHCCKRDHANCBIHLRVUGGDYEHJTHQFQGUTPFUG\n",
      "CTPKRDCTPKRDCTPKRDCTPKRDCTPKRDCTPKRDCTPKRDCTPKRDCTPKRDCTPKRDCTPKRDCTPKRDCTPKRDCTPKRDCTPKRDCTPKRDCTPKRDCTPKRDCTPKRDCTPKRDCTPKRDCTPKRDCTPKRDCTPKRDCTPKRDCTPKRDCTPKRDCTPKRDCTPKRDC\n"
     ]
    },
    {
     "data": {
      "text/plain": [
       "'SPACETHEFINALFRONTIERTHESEARETHEVOYAGESOFTHESTARSHIPENTERPRISEITSCONTINUINGMISSIONTOEXPLORESTRANGENEWWORLDSTOSEEKOUTNEWLIFEANDNEWCIVILIZATIONSTOBOLDLYGOWHERENOONEHASGONEBEFORE'"
      ]
     },
     "execution_count": 29,
     "metadata": {},
     "output_type": "execute_result"
    }
   ],
   "source": [
    "VDecoder(\"UIPMV WJXUS EDNYG YEWKX GDYHU XPBVW JXKYP DIXHY WWJXH DRUUA XZVQV XGZIL UXXDJ FQGIS EXKGV WZVUB DXKRG QEVFU GLIBR QIXCO NZQKA NJWQL TOBRW MCONO KYTKE GPXLM ZYKEX JRWKH CCKRD HANCB IHLRV UGGDY EHJTH QFQGU TPFUG\", \"CTPKRD\")"
   ]
  },
  {
   "cell_type": "code",
   "execution_count": 30,
   "metadata": {},
   "outputs": [],
   "source": [
    "def Inverse(a,n):\n",
    "    bucket=[]\n",
    "    q=n//a\n",
    "    z= n%a\n",
    "    n=a*q+n%a\n",
    "    while (z%a!=0):\n",
    "        bucket.append(q)\n",
    "        n=a\n",
    "        a=z\n",
    "        q=n//a\n",
    "        z=n%a\n",
    "    bucket=bucket[::-1]\n",
    "    x=1\n",
    "    r=1\n",
    "    l=1\n",
    "    while l<len(bucket):\n",
    "        q=bucket[l]\n",
    "        if l==1:\n",
    "            x=bucket[0]\n",
    "        y=q*x+r\n",
    "        r=x\n",
    "        x=y\n",
    "        l=l+1\n",
    "    return x  \n",
    "\n",
    "def PowerMod(a,b,n):\n",
    "    Base=[]\n",
    "    l=b\n",
    "    while (l!=0):\n",
    "        r=l%2\n",
    "        l=l//2\n",
    "        Base.append(r)\n",
    "    Bucket=[]\n",
    "    #p=1\n",
    "    q=a\n",
    "    i=1\n",
    "    while(i<b):\n",
    "        Bucket.append(q)\n",
    "        q=(q**2)%n\n",
    "        i=i*2\n",
    "    f=1\n",
    "    g=1\n",
    "    t=1\n",
    "    for h in range (len(Base)):\n",
    "        if Base[h] !=0:\n",
    "            f = Bucket[h]\n",
    "            g = Base[h]\n",
    "            t*=f*g\n",
    "        t=t%n\n",
    "    return t      "
   ]
  },
  {
   "cell_type": "code",
   "execution_count": 31,
   "metadata": {},
   "outputs": [],
   "source": [
    "p=282755483533707287054752184321121345766861480697448703443857012153264407439766013042402571\n",
    "g=12501\n",
    "b=105554066948103761672865984225739412035090544167154370596722480592258782629300153128298933\n",
    "ga=88001753498729689811702016995098394418913655244886218967933016854341817951696391341530017"
   ]
  },
  {
   "cell_type": "code",
   "execution_count": 32,
   "metadata": {},
   "outputs": [
    {
     "data": {
      "text/plain": [
       "\"0920 230119 200805 04012314 1506 200805 2008091804 010705 1506 13011411091404, 200514 2505011819 0106200518 200805 0501182008/13091402011809 230118. 200805 02010225121514 16181510050320 230119 01 0418050113 0709220514 06151813. 092019 07150112: 2015 16180522051420 01141520080518 230118 0225 0318050120091407 01 1612010305 2308051805 082113011419 011404 011209051419 0315211204 23151811 152120 2008050918 0409060605180514030519 16050103050621121225. 0920'19 01 16151820 1506 03011212, 08151305 01230125 06181513 08151305 061518 040916121513012019, 0821192012051819, 05142018051618051405211819, 011404 230114040518051819. 082113011419 011404 011209051419 23180116160504 0914 202315 13091212091514, 06092205 08211404180504 2008152119011404 20151419 1506 1916091414091407 1305200112, 011212 0112151405 0914 200805 1409070820. 0920 030114 0205 01 040114070518152119 1612010305, 022120 0920'19 152118 12011920 02051920 08151605 061518 1605010305. 20080919 0919 200805 1920151825 1506 200805 12011920 1506 200805 02010225121514 1920012009151419. 200805 25050118 0919 202315 2008152119011404 202315 08211404180504 0609062025 0509070820. 200805 14011305 1506 200805 1612010305 0919 02010225121514 06092205\""
      ]
     },
     "execution_count": 32,
     "metadata": {},
     "output_type": "execute_result"
    }
   ],
   "source": [
    "Cipher=\"it was the dawn of the third age of mankind, ten years after the earth/minbari war. the babylon project was a dream given form. its goal: to prevent another war by creating a place where humans and aliens could work out their differences peacefully. it's a port of call, home away from home for diplomats, hustlers, entrepreneurs, and wanderers. humans and aliens wrapped in two million, five hundred thousand tons of spinning metal, all alone in the night. it can be a dangerous place, but it's our last best hope for peace. this is the story of the last of the babylon stations. the year is two thousand two hundred fifty eight. the name of the place is babylon five\"\n",
    "x= Cipher.replace(\"a\", \"01\").replace(\"b\",'02').replace(\"c\",\"03\").replace(\"d\",\"04\").replace(\"e\",\"05\").replace(\"f\",\"06\").replace(\"g\",\"07\").replace(\"h\",\"08\").replace(\"i\",\"09\").replace(\"j\",\"10\").replace(\"k\",\"11\").replace(\"l\",\"12\").replace(\"m\",\"13\").replace(\"n\",\"14\").replace(\"o\",\"15\").replace(\"p\",\"16\").replace(\"q\",\"17\").replace(\"r\",\"18\").replace(\"s\",\"19\").replace(\"t\",\"20\").replace(\"u\",\"21\").replace(\"v\",\"22\").replace(\"w\",\"23\").replace(\"x\",\"24\").replace(\"y\",\"25\").replace(\"z\",\"26\")\n",
    "x\n"
   ]
  },
  {
   "cell_type": "code",
   "execution_count": 33,
   "metadata": {},
   "outputs": [],
   "source": [
    "p= 35201546659608842026088328007565866231962578784643756647773109869245232364730066609837018108561065242031153677\n",
    "q=527654088646108540362982390044019863852553381756839064739589507767331089783254199732302674718497125124586822562788766953\n",
    "e=65537\n",
    "n=p*q\n",
    "c=8604878097254913029488565516905181707103381751265882751553784445834212427943445091984102715609142073997966589048183740559509805806492236663031943344918464630075393657994407103500863247659160591051674883014696015765691533271794519\n"
   ]
  }
 ],
 "metadata": {
  "kernelspec": {
   "display_name": "Python 3 (ipykernel)",
   "language": "python",
   "name": "python3"
  },
  "language_info": {
   "codemirror_mode": {
    "name": "ipython",
    "version": 3
   },
   "file_extension": ".py",
   "mimetype": "text/x-python",
   "name": "python",
   "nbconvert_exporter": "python",
   "pygments_lexer": "ipython3",
   "version": "3.9.7"
  }
 },
 "nbformat": 4,
 "nbformat_minor": 2
}
